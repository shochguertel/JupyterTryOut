{
 "cells": [
  {
   "cell_type": "code",
   "execution_count": 1,
   "id": "0542e8bc-f3da-4f80-a921-822a0e3a8a47",
   "metadata": {},
   "outputs": [],
   "source": [
    "# Calculating pi using Monte Carlo methods"
   ]
  },
  {
   "cell_type": "markdown",
   "id": "a04cb388-3163-4399-a8e8-187b53abc226",
   "metadata": {},
   "source": [
    "## Relevant formulas\n",
    "\n",
    "- square area: $s = (2 r)^2$\n",
    "- circle area: $c = \\pi r^2$\n",
    "- $c/s = (\\pi r^2) / (4 r^2) = \\pi / 4$\n",
    "- $\\pi = 4 * c/s$"
   ]
  },
  {
   "cell_type": "markdown",
   "id": "ee1e414d-10e0-49bc-84a4-a74fdfe451d4",
   "metadata": {
    "tags": []
   },
   "source": [
    "## Image to visualize the concept\n",
    "\n",
    "![Darts](https://raw.githubusercontent.com/coderefinery/jupyter/main/example/darts.svg)"
   ]
  },
  {
   "cell_type": "code",
   "execution_count": 2,
   "id": "12144e0f-9c1e-4a27-bbde-503cffeeed10",
   "metadata": {},
   "outputs": [],
   "source": [
    "# importing modules that we will need\n",
    "\n",
    "import random\n",
    "import matplotlib.pyplot as plt\n",
    "import timeit\n",
    "import time"
   ]
  },
  {
   "cell_type": "code",
   "execution_count": 3,
   "id": "0d6e4216-8276-470d-b935-0b0071810ca4",
   "metadata": {
    "tags": []
   },
   "outputs": [],
   "source": [
    "# initializing the number of \"throws\"\n",
    "\n",
    "num_points = 100000"
   ]
  },
  {
   "cell_type": "code",
   "execution_count": 4,
   "id": "de1ce647-5ff9-4077-9e54-2651f3bf4fca",
   "metadata": {},
   "outputs": [],
   "source": [
    "# here we \"throw darts\" and count the number of hits\n",
    "\n",
    "#def count():\n",
    "points = []\n",
    "hits = 0\n",
    "for _ in range(num_points):\n",
    "    x, y = random.random(), random.random()\n",
    "    if x*x + y*y < 1.0:\n",
    "        hits += 1\n",
    "        points.append((x, y, \"red\"))\n",
    "    else:\n",
    "        points.append((x, y, \"blue\"))"
   ]
  },
  {
   "cell_type": "code",
   "execution_count": 5,
   "id": "c3591f3f-e856-40a6-82f1-d5e54ef52ce0",
   "metadata": {},
   "outputs": [],
   "source": [
    "#time0 = time.time()\n",
    "#count()\n",
    "#print(time.time() - time0)"
   ]
  },
  {
   "cell_type": "code",
   "execution_count": 6,
   "id": "2b070a13-757d-411d-addd-eb15304a2ecc",
   "metadata": {},
   "outputs": [],
   "source": [
    "# unzip points into 3 lists\n",
    "#x, y, colors = zip(*points)\n",
    "#\n",
    "## define figure dimensions\n",
    "#fig, ax = plt.subplots()\n",
    "#fig.set_size_inches(6.0, 6.0)\n",
    "#\n",
    "## plot results\n",
    "#ax.scatter(x, y, c=colors)"
   ]
  },
  {
   "cell_type": "code",
   "execution_count": 7,
   "id": "c87daed6-e79d-4b2c-b208-6f60fb8889f6",
   "metadata": {},
   "outputs": [
    {
     "data": {
      "text/plain": [
       "3.13924"
      ]
     },
     "execution_count": 7,
     "metadata": {},
     "output_type": "execute_result"
    }
   ],
   "source": [
    "# compute and print the estimate\n",
    "\n",
    "fraction = hits / num_points\n",
    "4 * fraction"
   ]
  },
  {
   "cell_type": "code",
   "execution_count": null,
   "id": "2dbd6fe4-f403-4266-bf56-5f8581c2c218",
   "metadata": {},
   "outputs": [],
   "source": []
  },
  {
   "cell_type": "code",
   "execution_count": null,
   "id": "a9abb539-4bd8-4dbe-a5b2-31a62b9bce8f",
   "metadata": {},
   "outputs": [],
   "source": []
  },
  {
   "cell_type": "code",
   "execution_count": null,
   "id": "abe57aec-7699-4711-acc4-855b37625399",
   "metadata": {},
   "outputs": [],
   "source": []
  }
 ],
 "metadata": {
  "kernelspec": {
   "display_name": "Python 3 (ipykernel)",
   "language": "python",
   "name": "python3"
  },
  "language_info": {
   "codemirror_mode": {
    "name": "ipython",
    "version": 3
   },
   "file_extension": ".py",
   "mimetype": "text/x-python",
   "name": "python",
   "nbconvert_exporter": "python",
   "pygments_lexer": "ipython3",
   "version": "3.10.6"
  }
 },
 "nbformat": 4,
 "nbformat_minor": 5
}
